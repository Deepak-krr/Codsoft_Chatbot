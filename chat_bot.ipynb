{
  "nbformat": 4,
  "nbformat_minor": 0,
  "metadata": {
    "colab": {
      "provenance": []
    },
    "kernelspec": {
      "name": "python3",
      "display_name": "Python 3"
    },
    "language_info": {
      "name": "python"
    }
  },
  "cells": [
    {
      "cell_type": "markdown",
      "source": [
        "#Rule-based Chatbots\n",
        "Rule-based chatbots are pretty straight forward. They are provided with a database of responses and are given a set of rules that help them match out an appropriate response from the provided database. They cannot generate their own answers but with an extensive database of answers and smartly designed rules, they can be very productive and useful.\n",
        "\n",
        "# Building a chatbot\n",
        "This very simple rule based chatbot will work by searching for specific keywords in inputs given by a user. The keywords will be used to understand what action the user wants to take (user’s intent). Once the intent is identified, the bot will then pick out a response appropriate to the intent.\n",
        "\n",
        "The list of keywords the bot will be searching for and the dictionary of responses will be built up manually based on the specific use case for the chatbot."
      ],
      "metadata": {
        "id": "ZypwFV5IudZY"
      }
    },
    {
      "cell_type": "code",
      "execution_count": 8,
      "metadata": {
        "id": "PZvYpKzlTpwX"
      },
      "outputs": [],
      "source": [
        "# Importing modules\n",
        "import re\n",
        "from nltk.corpus import wordnet"
      ]
    },
    {
      "cell_type": "markdown",
      "source": [
        "# Building a list of keywords"
      ],
      "metadata": {
        "id": "QlfeyeH17caV"
      }
    },
    {
      "cell_type": "code",
      "source": [
        "import nltk\n",
        "nltk.download('wordnet')\n",
        "# Building a list of Keywords\n",
        "list_words=['hello','timings']\n",
        "list_syn={}\n",
        "for word in list_words:\n",
        "    synonyms=[]\n",
        "    for syn in wordnet.synsets(word):\n",
        "      for lem in syn.lemmas():\n",
        "            # Remove any special characters from synonym strings\n",
        "            lem_name = re.sub('[^a-zA-Z0-9 \\n\\.]', ' ', lem.name())\n",
        "            synonyms.append(lem_name)\n",
        "    list_syn[word]=set(synonyms)\n",
        "print (list_syn)"
      ],
      "metadata": {
        "id": "lEzUNwHMtLU4",
        "colab": {
          "base_uri": "https://localhost:8080/"
        },
        "outputId": "9637c103-789f-439f-ff83-19e07257808f"
      },
      "execution_count": 15,
      "outputs": [
        {
          "output_type": "stream",
          "name": "stderr",
          "text": [
            "[nltk_data] Downloading package wordnet to /root/nltk_data...\n"
          ]
        },
        {
          "output_type": "stream",
          "name": "stdout",
          "text": [
            "{'hello': {'howdy', 'hi', 'how do you do', 'hullo', 'hello'}, 'timings': {'timing', 'clock', 'time'}}\n"
          ]
        }
      ]
    },
    {
      "cell_type": "markdown",
      "source": [
        "# Building a dictionary of intents\n",
        "We need to build up a dictionary that matches our keywords to intents. We also need to reformat the keywords in a special syntax that makes them visible to Regular Expression’s search function."
      ],
      "metadata": {
        "id": "wQr55snT7Ma9"
      }
    },
    {
      "cell_type": "code",
      "source": [
        "# Building dictionary of Intents & Keywords\n",
        "keywords={}\n",
        "keywords_dict={}\n",
        "# Defining a new key in the keywords dictionary\n",
        "keywords['greet']=[]\n",
        "# Populating the values in the keywords dictionary with synonyms of keywords formatted with RegEx metacharacters\n",
        "for synonym in list(list_syn['hello']):\n",
        "    keywords['greet'].append('.*\\\\b'+synonym+'\\\\b.*')\n",
        "\n",
        "# Defining a new key in the keywords dictionary\n",
        "keywords['timings']=[]\n",
        "# Populating the values in the keywords dictionary with synonyms of keywords formatted with RegEx metacharacters\n",
        "for synonym in list(list_syn['timings']):\n",
        "    keywords['timings'].append('.*\\\\b'+synonym+'\\\\b.*')\n",
        "for intent, keys in keywords.items():\n",
        "    # Joining the values in the keywords dictionary with the OR (|) operator updating them in keywords_dict dictionary\n",
        "    keywords_dict[intent]=re.compile('|'.join(keys))\n",
        "print (keywords_dict)"
      ],
      "metadata": {
        "colab": {
          "base_uri": "https://localhost:8080/"
        },
        "id": "MqFCwstKwYoS",
        "outputId": "4234fd19-b65f-4b53-955d-3b8f52a20a18"
      },
      "execution_count": 18,
      "outputs": [
        {
          "output_type": "stream",
          "name": "stdout",
          "text": [
            "{'greet': re.compile('.*\\\\bhowdy\\\\b.*|.*\\\\bhi\\\\b.*|.*\\\\bhow do you do\\\\b.*|.*\\\\bhullo\\\\b.*|.*\\\\bhello\\\\b.*'), 'timings': re.compile('.*\\\\btiming\\\\b.*|.*\\\\bclock\\\\b.*|.*\\\\btime\\\\b.*')}\n"
          ]
        }
      ]
    },
    {
      "cell_type": "code",
      "source": [
        "{'greet': re.compile('.*\\\\bhullo\\\\b.*|.*\\\\bhow-do-you-do\\\\b.*|.*\\\\bhowdy\\\\b.*|.*\\\\bhello\\\\b.*|.*\\\\bhi\\\\b.*')}\n",
        "\n",
        "# Regular Expression uses specific patterns of special Meta-Characters to search for strings or sets of strings in an expression."
      ],
      "metadata": {
        "colab": {
          "base_uri": "https://localhost:8080/"
        },
        "id": "vlo_-87m39zB",
        "outputId": "aba48c04-1d56-42a6-8627-e4dfb76a30b2"
      },
      "execution_count": 20,
      "outputs": [
        {
          "output_type": "execute_result",
          "data": {
            "text/plain": [
              "{'greet': re.compile(r'.*\\bhullo\\b.*|.*\\bhow-do-you-do\\b.*|.*\\bhowdy\\b.*|.*\\bhello\\b.*|.*\\bhi\\b.*',\n",
              " re.UNICODE)}"
            ]
          },
          "metadata": {},
          "execution_count": 20
        }
      ]
    },
    {
      "cell_type": "markdown",
      "source": [
        "# Defining Responses"
      ],
      "metadata": {
        "id": "MoPODIrX622X"
      }
    },
    {
      "cell_type": "code",
      "source": [
        "# Building a dictionary of responses\n",
        "responses={\n",
        "    'greet':'Hello! How can I help you?',\n",
        "    'timings':'We are open from 9AM to 5PM, Monday to Friday. We are closed on weekends and public holidays.',\n",
        "    'fallback':'I dont quite understand. Could you repeat that?',\n",
        "}"
      ],
      "metadata": {
        "id": "toshjKQq4Sgd"
      },
      "execution_count": 23,
      "outputs": []
    },
    {
      "cell_type": "markdown",
      "source": [
        "# Matching intents and generating responses\n",
        "We’ll move on to taking input from the user and searching the input string for our keywords.\n",
        "We use the RegEx Search function to search the user input for keywords stored in the value field of the keywords_dict dictionary.\n"
      ],
      "metadata": {
        "id": "99aign3p6diM"
      }
    },
    {
      "cell_type": "code",
      "source": [
        "print (\"Welcome to MyBank. How may I help you?\")\n",
        "# While loop to run the chatbot indefinetely\n",
        "while (True):\n",
        "    # Takes the user input and converts all characters to lowercase\n",
        "    user_input = input().lower()\n",
        "    # Defining the Chatbot's exit condition\n",
        "    if user_input == 'quit':\n",
        "        print (\"Thank you for visiting.\")\n",
        "        break\n",
        "    matched_intent = None\n",
        "    for intent,pattern in keywords_dict.items():\n",
        "        # Using the regular expression search function to look for keywords in user input\n",
        "        if re.search(pattern, user_input):\n",
        "            # if a keyword matches, select the corresponding intent from the keywords_dict dictionary\n",
        "            matched_intent=intent\n",
        "    # The fallback intent is selected by default\n",
        "    key='fallback'\n",
        "    if matched_intent in responses:\n",
        "        # If a keyword matches, the fallback intent is replaced by the matched intent as the key for the responses dictionary\n",
        "        key = matched_intent\n",
        "    # The chatbot prints the response that matches the selected intent\n",
        "    print (responses[key])"
      ],
      "metadata": {
        "colab": {
          "base_uri": "https://localhost:8080/"
        },
        "id": "xFi_nUfs4sJs",
        "outputId": "b21b9b97-5bfa-463c-ad78-1c53bd2d19dc"
      },
      "execution_count": 24,
      "outputs": [
        {
          "output_type": "stream",
          "name": "stdout",
          "text": [
            "Welcome to MyBank. How may I help you?\n",
            "hi\n",
            "Hello! How can I help you?\n",
            "time\n",
            "We are open from 9AM to 5PM, Monday to Friday. We are closed on weekends and public holidays.\n",
            "close\n",
            "I dont quite understand. Could you repeat that?\n",
            "open \n",
            "I dont quite understand. Could you repeat that?\n",
            "bank account\n",
            "I dont quite understand. Could you repeat that?\n",
            "close\n",
            "I dont quite understand. Could you repeat that?\n",
            "quit\n",
            "Thank you for visiting.\n"
          ]
        }
      ]
    },
    {
      "cell_type": "code",
      "source": [],
      "metadata": {
        "id": "QaQPS4fw5ICP"
      },
      "execution_count": null,
      "outputs": []
    }
  ]
}